{
  "nbformat": 4,
  "nbformat_minor": 0,
  "metadata": {
    "colab": {
      "name": "BasicPython.ipynb",
      "provenance": []
    },
    "kernelspec": {
      "name": "python3",
      "display_name": "Python 3"
    },
    "language_info": {
      "name": "python"
    }
  },
  "cells": [
    {
      "cell_type": "code",
      "execution_count": 9,
      "metadata": {
        "id": "4Zha4W0Fy2uI"
      },
      "outputs": [],
      "source": [
        "\n",
        "x=5"
      ]
    },
    {
      "cell_type": "code",
      "source": [
        "if x>10 :\n",
        "  print(\"x>10\") "
      ],
      "metadata": {
        "id": "zFF9KkZT08IU"
      },
      "execution_count": 10,
      "outputs": []
    },
    {
      "cell_type": "code",
      "source": [
        "x=10\n",
        "if x>10 :\n",
        "  print(\"x is greater than 10\")\n",
        "if x<10 :\n",
        "  print(\"x is less than 10\")\n",
        "if x==10 :\n",
        "  print(\"x is equal to 10\")"
      ],
      "metadata": {
        "colab": {
          "base_uri": "https://localhost:8080/"
        },
        "id": "PmlX_Rd11-Rz",
        "outputId": "ebe60b0e-ae53-44d7-d3e7-4a878f49055c"
      },
      "execution_count": 15,
      "outputs": [
        {
          "output_type": "stream",
          "name": "stdout",
          "text": [
            "x is equal to 10\n"
          ]
        }
      ]
    },
    {
      "cell_type": "code",
      "source": [
        "x=int(input(\" ENTER YOUR MARKS: \"))\n",
        "if (x>100) :\n",
        "  print(\" PASSED \")\n",
        "if(x<100) :\n",
        "  print(\" FAILED \")\n",
        "if(x==100) :\n",
        "  print(\" JUST PASSED \")\n"
      ],
      "metadata": {
        "colab": {
          "base_uri": "https://localhost:8080/"
        },
        "id": "bQa5YwMg9MI2",
        "outputId": "5699af72-2e10-485c-c213-80dcb566a3c4"
      },
      "execution_count": 24,
      "outputs": [
        {
          "output_type": "stream",
          "name": "stdout",
          "text": [
            " ENTER YOUR MARKS: 34\n",
            " FAILED \n"
          ]
        }
      ]
    },
    {
      "cell_type": "code",
      "source": [
        " \n",
        " income = int(input(\" Please enter your taxable income in india: \"))\n",
        " if income <= 250000 : \n",
        "   print(\" ZERO TAX \")\n",
        " if income > 250000 :\n",
        "   print( \"Your tax is\",income*(0.10))"
      ],
      "metadata": {
        "colab": {
          "base_uri": "https://localhost:8080/"
        },
        "id": "_axjzAmO_DqM",
        "outputId": "ce39c0d4-cba7-408b-f401-cb0cae70424a"
      },
      "execution_count": 27,
      "outputs": [
        {
          "output_type": "stream",
          "name": "stdout",
          "text": [
            " Please enter your taxable income in india: 400000\n",
            "Your tax is 40000.0\n"
          ]
        }
      ]
    },
    {
      "cell_type": "code",
      "source": [
        ""
      ],
      "metadata": {
        "id": "X5WA30coFXi9"
      },
      "execution_count": 27,
      "outputs": []
    }
  ]
}